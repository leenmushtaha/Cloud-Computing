{
  "nbformat": 4,
  "nbformat_minor": 0,
  "metadata": {
    "colab": {
      "provenance": [],
      "gpuType": "T4"
    },
    "kernelspec": {
      "name": "python3",
      "display_name": "Python 3"
    },
    "language_info": {
      "name": "python"
    },
    "accelerator": "GPU"
  },
  "cells": [
    {
      "cell_type": "code",
      "execution_count": null,
      "metadata": {
        "id": "wu7-oyrfLHOp"
      },
      "outputs": [],
      "source": [
        "'''Import libraries (tensorflow and time)'''\n",
        "\n",
        "import tensorflow as tf\n",
        "import time"
      ]
    },
    {
      "cell_type": "code",
      "source": [
        "'''List physical devices in the notebook'''\n",
        "\n",
        "devices = tf.config.list_physical_devices()\n",
        "for device in devices:\n",
        "  print(device)"
      ],
      "metadata": {
        "id": "qlbx4uitMnmW",
        "colab": {
          "base_uri": "https://localhost:8080/"
        },
        "outputId": "62dc852d-a936-4fcc-cf70-8004bee5da2e"
      },
      "execution_count": 2,
      "outputs": [
        {
          "output_type": "stream",
          "name": "stdout",
          "text": [
            "PhysicalDevice(name='/physical_device:CPU:0', device_type='CPU')\n",
            "PhysicalDevice(name='/physical_device:GPU:0', device_type='GPU')\n"
          ]
        }
      ]
    },
    {
      "cell_type": "code",
      "source": [
        "'''The heavy computational task used is matrix multiplication'''\n",
        "#the function returns the total time needed to execute the task\n",
        "\n",
        "def compute_on_device(device_name):\n",
        "  with tf.device(device_name):\n",
        "    start_time = time.time() #mark the start time\n",
        "\n",
        "    #generate random matrices in size 1000x1000\n",
        "    matrix_size = 1000\n",
        "    a = tf.random.normal([matrix_size, matrix_size])\n",
        "    b = tf.random.normal([matrix_size, matrix_size])\n",
        "\n",
        "    #multiply the two matrices\n",
        "    result = tf.matmul(a, b)\n",
        "\n",
        "    end_time = time.time() #mark the end time\n",
        "  return end_time - start_time"
      ],
      "metadata": {
        "id": "SJWRr2ZHMtz7"
      },
      "execution_count": 3,
      "outputs": []
    },
    {
      "cell_type": "code",
      "source": [
        "'''The first load balancing algorithm: Round Robin'''\n",
        "#assume that the total number of tasks is 10\n",
        "#the tasks are sequentially distributed across both devices\n",
        "\n",
        "def round_robin():\n",
        "  devices = ['/CPU:0', '/GPU:0'] #list the 2 devices\n",
        "  num_tasks = 10\n",
        "\n",
        "  for i in range(num_tasks):\n",
        "    device_used = devices[i % len(devices)]\n",
        "    task_time = compute_on_device(device_used)\n",
        "    print(f\"Task {i + 1} executed on device {device_used}, Time: {task_time:.4f}\")\n",
        "\n",
        "#call the function\n",
        "round_robin()"
      ],
      "metadata": {
        "colab": {
          "base_uri": "https://localhost:8080/"
        },
        "id": "y2TaE90VmmCV",
        "outputId": "b77bf6a5-393a-45cd-8367-3e08e5047302"
      },
      "execution_count": 4,
      "outputs": [
        {
          "output_type": "stream",
          "name": "stdout",
          "text": [
            "Task 1 executed on device /CPU:0, Time: 0.1837\n",
            "Task 2 executed on device /GPU:0, Time: 0.1558\n",
            "Task 3 executed on device /CPU:0, Time: 0.0651\n",
            "Task 4 executed on device /GPU:0, Time: 0.0017\n",
            "Task 5 executed on device /CPU:0, Time: 0.0604\n",
            "Task 6 executed on device /GPU:0, Time: 0.0014\n",
            "Task 7 executed on device /CPU:0, Time: 0.0543\n",
            "Task 8 executed on device /GPU:0, Time: 0.0015\n",
            "Task 9 executed on device /CPU:0, Time: 0.0531\n",
            "Task 10 executed on device /GPU:0, Time: 0.0013\n"
          ]
        }
      ]
    },
    {
      "cell_type": "code",
      "source": [
        "'''The second load balancing algorithm: Weighted Round Robin'''\n",
        "#assume that CPU capacity is 7, while GPU capacity is 3\n",
        "#assume that both devices start with zero tasks\n",
        "#assume that the total number of tasks is 10\n",
        "\n",
        "def weighted_round_robin():\n",
        "  devices_capacity = {\"/CPU:0\":7, \"/GPU:0\":3} #capacity of CPU=7, capacity of GPU=3\n",
        "  devices = {\"/CPU:0\":0, \"/GPU:0\":0} #devices start at zero tasks\n",
        "  num_tasks = 10\n",
        "\n",
        "  for i in range(num_tasks):\n",
        "    if devices[\"/CPU:0\"] < devices_capacity[\"/CPU:0\"]: #if the number of tasks for CPU is less than its capacity\n",
        "      device_used = \"/CPU:0\" #then use CPU\n",
        "    else:\n",
        "      device_used = \"/GPU:0\" #else use GPU\n",
        "\n",
        "    task_time = compute_on_device(device_used)\n",
        "    devices[device_used] += 1 #increment the number of tasks for the used device\n",
        "    print(f\"Task {i + 1} executed on device {device_used}, Time: {task_time:.4f}\")\n",
        "\n",
        "#call the function\n",
        "weighted_round_robin()"
      ],
      "metadata": {
        "colab": {
          "base_uri": "https://localhost:8080/"
        },
        "id": "hZf9h58MqMYB",
        "outputId": "9ce2caa4-c53e-4a6d-e00f-3a56e0ef89c2"
      },
      "execution_count": 5,
      "outputs": [
        {
          "output_type": "stream",
          "name": "stdout",
          "text": [
            "Task 1 executed on device /CPU:0, Time: 0.0581\n",
            "Task 2 executed on device /CPU:0, Time: 0.0517\n",
            "Task 3 executed on device /CPU:0, Time: 0.0589\n",
            "Task 4 executed on device /CPU:0, Time: 0.0545\n",
            "Task 5 executed on device /CPU:0, Time: 0.0543\n",
            "Task 6 executed on device /CPU:0, Time: 0.0517\n",
            "Task 7 executed on device /CPU:0, Time: 0.0567\n",
            "Task 8 executed on device /GPU:0, Time: 0.0014\n",
            "Task 9 executed on device /GPU:0, Time: 0.0009\n",
            "Task 10 executed on device /GPU:0, Time: 0.0009\n"
          ]
        }
      ]
    },
    {
      "cell_type": "code",
      "source": [
        "'''The third load balancing algorithm: Least Connections'''\n",
        "#assume that CPU has three current tasks while GPU has 1 current task\n",
        "#assume that the total number of tasks is 10\n",
        "\n",
        "def least_connections():\n",
        "  devices = {\"/CPU:0\":3, \"/GPU:0\":1} #current tasks for both devices\n",
        "  num_tasks = 10\n",
        "\n",
        "  for i in range(num_tasks):\n",
        "    device_used = min(devices, key = devices.get) #use the device with the minimum number of tasks\n",
        "    task_time = compute_on_device(device_used)\n",
        "    devices[device_used] += 1 #increment the number of tasks for the used device\n",
        "    print(f\"Task {i + 1} executed on device {device_used}, Time: {task_time:.4f}\")\n",
        "\n",
        "#call the function\n",
        "least_connections()"
      ],
      "metadata": {
        "colab": {
          "base_uri": "https://localhost:8080/"
        },
        "id": "X1dcNbaME9mW",
        "outputId": "1ec573de-c013-4bc4-91e5-e798f4f74a33"
      },
      "execution_count": 7,
      "outputs": [
        {
          "output_type": "stream",
          "name": "stdout",
          "text": [
            "Task 1 executed on device /GPU:0, Time: 0.0025\n",
            "Task 2 executed on device /GPU:0, Time: 0.0020\n",
            "Task 3 executed on device /CPU:0, Time: 0.0533\n",
            "Task 4 executed on device /GPU:0, Time: 0.0012\n",
            "Task 5 executed on device /CPU:0, Time: 0.0542\n",
            "Task 6 executed on device /GPU:0, Time: 0.0012\n",
            "Task 7 executed on device /CPU:0, Time: 0.0565\n",
            "Task 8 executed on device /GPU:0, Time: 0.0020\n",
            "Task 9 executed on device /CPU:0, Time: 0.0655\n",
            "Task 10 executed on device /GPU:0, Time: 0.0015\n"
          ]
        }
      ]
    },
    {
      "cell_type": "markdown",
      "source": [
        "# Report\n",
        "\n",
        "## *   How does each algorithm distribute the tasks?\n",
        "\n",
        "1.   Round Robin\n",
        "\n",
        "This algorithm distributes the tasks sequentially and evenly on all devices.\n",
        "\n",
        "2.   Weighted Round Robin\n",
        "\n",
        "Each device has a capacity on the amount of tasks it can handle at once. This algorithm makes sure that no device exceeds its capacity and crashes, therefore it ensures weighted distribution.\n",
        "\n",
        "3.   Least Connections\n",
        "\n",
        "This algorithm gives the task to the server with the least tasks, or least connections.\n",
        "\n",
        "## *   Performance comparision for each algorithm\n",
        "\n",
        "\n",
        "1.   Round Robin\n",
        "\n",
        "For the first 2 tasks (the first task for each device), both devices start slow with GPU being slightly faster than CPU. Then for the rest of the tasks, both devices become faster with GPU being slightly faster than CPU.\n",
        "\n",
        "\n",
        "2.   Weighted Round Robin\n",
        "\n",
        "CPU took the first 7 tasks reaching its capacity before GPU took over the left 3 tasks. GPU is definitely faster than CPU.\n",
        "\n",
        "3. Least Connections\n",
        "\n",
        "GPU started with the tasks until it equaled CPU with its tasks. GPU is also faster than CPU.\n",
        "\n",
        "\n",
        "\n"
      ],
      "metadata": {
        "id": "Q-X5y4b1Wmgl"
      }
    }
  ]
}
