{
  "nbformat": 4,
  "nbformat_minor": 0,
  "metadata": {
    "colab": {
      "provenance": [],
      "gpuType": "T4"
    },
    "kernelspec": {
      "name": "python3",
      "display_name": "Python 3"
    },
    "language_info": {
      "name": "python"
    },
    "accelerator": "GPU"
  },
  "cells": [
    {
      "cell_type": "markdown",
      "source": [
        "##Round-Robin Load Balancing Quiz\n",
        "\n",
        "Your task is to complete each step in the code snippet below. For each step, answer the corresponding questions to show your understanding of TensorFlow operations, device management, and performance measurement.\n",
        "\n",
        "### Step 1: print all available devices\n",
        "### Step 2: Create large random matrices with a size of 500\n",
        "### Step 3: Perform an alternative heavy operation (matrix inversion)\n",
        "### Step 4: use both CPU and TPU in a devices list (e.g., /CPU:0 and /GPU:0)\n",
        "### Step 5: switch between device types in a round-robin fashion\n",
        "### Step 6: print the device used and the time taken"
      ],
      "metadata": {
        "id": "ZCTRClQTSmTT"
      }
    },
    {
      "cell_type": "code",
      "execution_count": null,
      "metadata": {
        "id": "1wgcrsbrJsWD"
      },
      "outputs": [],
      "source": [
        "import tensorflow as tf\n",
        "import time"
      ]
    },
    {
      "cell_type": "code",
      "source": [
        "devices = tf.config.experimental.list_physical_devices()\n",
        "\n",
        "for device in devices:\n",
        "  print(device)"
      ],
      "metadata": {
        "colab": {
          "base_uri": "https://localhost:8080/"
        },
        "id": "xcHUXi2qJ5Mv",
        "outputId": "3e0e6427-a9d5-4d15-c53c-e93e2db2bc1b"
      },
      "execution_count": null,
      "outputs": [
        {
          "output_type": "stream",
          "name": "stdout",
          "text": [
            "PhysicalDevice(name='/physical_device:CPU:0', device_type='CPU')\n"
          ]
        }
      ]
    },
    {
      "cell_type": "code",
      "source": [
        "def compute_on_device(device_name):\n",
        "  with tf.device(device_name):\n",
        "    start_time = time.time()\n",
        "\n",
        "    matrix_size = 500\n",
        "    a = tf.random.normal([matrix_size, matrix_size])\n",
        "    b = tf.random.normal([matrix_size, matrix_size])\n",
        "    result = tf.linalg.inv(a)\n",
        "\n",
        "    end_time = time.time()\n",
        "\n",
        "    return end_time - start_time"
      ],
      "metadata": {
        "id": "6rT5DY_SKGq3"
      },
      "execution_count": null,
      "outputs": []
    },
    {
      "cell_type": "code",
      "source": [
        "def round_robin_workload():\n",
        "  devices = [\"/CPU:0\", \"/TPU:0\"]\n",
        "  num_tasks = 10\n",
        "  task_times = []\n",
        "\n",
        "  for i in range(num_tasks):\n",
        "    device = devices[i % len(devices)]\n",
        "    task_time = compute_on_device(device)\n",
        "    print(f\"Task {i + 1} executed on {device}, Time {task_time:.4f} seconds\")\n",
        "    task_times.append(task_time)\n",
        "\n",
        "  return task_times"
      ],
      "metadata": {
        "id": "vOj1Ko36K9lZ"
      },
      "execution_count": null,
      "outputs": []
    },
    {
      "cell_type": "code",
      "source": [
        "if __name__ == \"__main__\":\n",
        " task_times = round_robin_workload()\n",
        " print(\"\\nTask times:\", task_times)"
      ],
      "metadata": {
        "colab": {
          "base_uri": "https://localhost:8080/"
        },
        "id": "oEplti8AL987",
        "outputId": "04cf6448-ca69-4e9d-8ad1-fe9562036346"
      },
      "execution_count": null,
      "outputs": [
        {
          "output_type": "stream",
          "name": "stdout",
          "text": [
            "Task 1 executed on /CPU:0, Time 0.0252 seconds\n",
            "Task 2 executed on /TPU:0, Time 0.0235 seconds\n",
            "Task 3 executed on /CPU:0, Time 0.0279 seconds\n",
            "Task 4 executed on /TPU:0, Time 0.0308 seconds\n",
            "Task 5 executed on /CPU:0, Time 0.0239 seconds\n",
            "Task 6 executed on /TPU:0, Time 0.0239 seconds\n",
            "Task 7 executed on /CPU:0, Time 0.0231 seconds\n",
            "Task 8 executed on /TPU:0, Time 0.0237 seconds\n",
            "Task 9 executed on /CPU:0, Time 0.0234 seconds\n",
            "Task 10 executed on /TPU:0, Time 0.0249 seconds\n",
            "\n",
            "Task times: [0.025243759155273438, 0.023481130599975586, 0.027904033660888672, 0.0308382511138916, 0.02388310432434082, 0.02385234832763672, 0.023079395294189453, 0.023708343505859375, 0.02335667610168457, 0.024878740310668945]\n"
          ]
        }
      ]
    },
    {
      "cell_type": "code",
      "source": [],
      "metadata": {
        "id": "HxbPBcvTMJ8h"
      },
      "execution_count": null,
      "outputs": []
    }
  ]
}